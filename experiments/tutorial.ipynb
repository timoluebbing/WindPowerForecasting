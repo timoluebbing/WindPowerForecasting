{
 "cells": [
  {
   "cell_type": "markdown",
   "id": "76fc728c",
   "metadata": {},
   "source": [
    "# Tutorial - Wind Power Prediction Using Gaussian Processes\n",
    "\n",
    "***Machine Learning for Renewable Energy Systems***\n",
    "\n",
    "**Timo Lübbing**\n",
    "\n",
    "**University of Tübingen**\n",
    "\n",
    "## Introduction\n",
    "\n",
    "This tutorial explores the application of Gaussian Processes (GP) in forecasting wind power generation. Through a series of code examples and explanations, you'll gain insights into data preprocessing, feature engineering, and the training and evaluation of GP models for wind energy prediction.\n",
    "\n",
    "We'll also delve into forecasting the combined output of off-shore and on-shore wind power. Additionally, we'll examine how different weather input features influence the model's performance, providing a deeper understanding of their impact on predictive accuracy."
   ]
  }
 ],
 "metadata": {
  "language_info": {
   "name": "python"
  }
 },
 "nbformat": 4,
 "nbformat_minor": 5
}
